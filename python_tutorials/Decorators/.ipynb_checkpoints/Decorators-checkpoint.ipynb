{
 "cells": [
  {
   "cell_type": "markdown",
   "metadata": {},
   "source": [
    "# Decorators em Python\n",
    "----\n",
    "### Intro\n",
    "---------\n",
    "Se você está lendo esse tutorial, então, assim como esse hulmide autor que vos escreve, você se interessou por uma poderosíssima ferramenta que algumas linguagens de programação oferecem.\n",
    "Falar de ***decorators*** por si só não é algo simples ou rápido. De fato, antes mesmo de se aprofundar neste conceito, faz-se necessário ter um conhecimento prévio de ***first-class functions*** e ***closures***.  Mas não se preocupe, esses conceitos prévios necessaŕios serão abordados nos parágrafos seguintes antes de entrarmos de fato nos ***decorators***.\n",
    "\n",
    "Por fim, espero que este tutorial seja um bom guia inicial para quem decidir se aventurar por ele. Sem mais balelas, vamos ao que importa.\n",
    "    \n",
    "### First-Class Funtions\n",
    "-------------------------\n",
    "Na ciência da computação, quando uma certa linguaguem de programação é dita ter ***first-class functions***, ela trata suas funções como [first-class citizens](https://en.wikipedia.org/wiki/First-class_citizen \"First-class citizen's  Wiki Homepage\"). \n",
    "Sendo mais específico, isto siginifica que a linguagem suporta não somente passar funções como argumentos para outras funções, como também retorná-las, além de armazená-las em variávies ou *data structures*. \n",
    "\n",
    "A seguir temos um exemplo de aplicação do conceito."
   ]
  },
  {
   "cell_type": "markdown",
   "metadata": {},
   "source": [
    "###### Considere que temos o seguinte código:"
   ]
  },
  {
   "cell_type": "code",
   "execution_count": 1,
   "metadata": {},
   "outputs": [
    {
     "name": "stdout",
     "output_type": "stream",
     "text": [
      "<function square at 0x7f46082866a8>\n",
      "25\n"
     ]
    }
   ],
   "source": [
    "def square (x):\n",
    "    return x**2\n",
    "\n",
    "result = square(5)\n",
    "\n",
    "print(square)\n",
    "print(result)"
   ]
  },
  {
   "cell_type": "markdown",
   "metadata": {},
   "source": [
    "O que acontecerá se fizermos <span style=\"background-color: #F9EBEA; color:##C0392B\">result = square</span> ? Isto mesmo, sem os parênteses e sem passagem de argumentos. Vamos testar"
   ]
  },
  {
   "cell_type": "code",
   "execution_count": 2,
   "metadata": {},
   "outputs": [
    {
     "name": "stdout",
     "output_type": "stream",
     "text": [
      "<function square at 0x7f46082862f0>\n",
      "<function square at 0x7f46082862f0>\n"
     ]
    }
   ],
   "source": [
    "def square (x):\n",
    "    return x**2\n",
    "\n",
    "result = square\n",
    "\n",
    "print(square)\n",
    "print(result)"
   ]
  },
  {
   "cell_type": "markdown",
   "metadata": {},
   "source": [
    "Nota-se que <span style=\"background-color: #F9EBEA; color:##C0392B\">result </span> agora é igual a função <span style=\"background-color: #F9EBEA; color:##C0392B\">square()</span> mostrando assim um dos aspectos do que é dito ser **first-class function**. Logo, <span style=\"background-color: #F9EBEA; color:##C0392B\">result</span> a partir de agora é tratada como função e pode, portanto, ser usada como a função <span style=\"background-color: #F9EBEA; color:##C0392B\">square()</span>. "
   ]
  },
  {
   "cell_type": "code",
   "execution_count": 3,
   "metadata": {},
   "outputs": [
    {
     "name": "stdout",
     "output_type": "stream",
     "text": [
      "<function square at 0x7f22ccc8ac80>\n",
      "25\n"
     ]
    }
   ],
   "source": [
    "def square (x):\n",
    "    return x**2\n",
    "\n",
    "result = square\n",
    "\n",
    "print(square)\n",
    "print(result(5))"
   ]
  },
  {
   "cell_type": "markdown",
   "metadata": {},
   "source": [
    "-------------------------------\n",
    "Para mostrar um pouco mais deste conceito, abaixo é dado mais um exemplo para consolidação. "
   ]
  },
  {
   "cell_type": "code",
   "execution_count": 4,
   "metadata": {},
   "outputs": [
    {
     "data": {
      "text/plain": [
       "[2, 4, 8, 16, 32, 64, 128, 256, 512, 1024]"
      ]
     },
     "execution_count": 4,
     "metadata": {},
     "output_type": "execute_result"
    }
   ],
   "source": [
    "def twoRaised (n):\n",
    "    return 2**n\n",
    "\n",
    "def some_map(func, arg_list):\n",
    "    result_list = []\n",
    "    for i in arg_list:\n",
    "        result_list.append(func(i))\n",
    "    return result_list\n",
    "\n",
    "raiseds = some_map(twoRaised, [1, 2, 3, 4, 5, 6, 7, 8, 9, 10])\n",
    "\n",
    "raiseds"
   ]
  },
  {
   "cell_type": "markdown",
   "metadata": {},
   "source": [
    "Neste exemplo é apresentado outro aspecto que define a uma **first-class function**, que é a possibilidade de passagem da função como argumento de uma outra. Aqui, passamos a função <span style=\"background-color: #F9EBEA; color:##C0392B\">twoRaised()</span> como argumento para a função <span style=\"background-color: #F9EBEA; color:##C0392B\">some_map()</span>. Internamente a função <span style=\"background-color: #F9EBEA; color:##C0392B\">some_map()</span> chama a função <span style=\"background-color: #F9EBEA; color:##C0392B\">twoRaised()</span> para cada elemento do ***array*** de inteiros que é passado e por fim retorna o ***array*** resultante.  \n",
    "Com este exemplo, fecha-se este tópico em **first-class function**, caso o leitor queira se aprofundar mais sobre o conceito, tem-se uma lista a seguir com algumas fontes.\n",
    "* * *\n",
    "> \n",
    "- Um ótimo vídeo do canal do Corey Schafer sobre first-class functions e que serviu como material base para este tutorial.\n",
    "[Programming Terms: First-Class Functions](https://www.youtube.com/watch?v=kr0mpwqttM0&feature=youtu.be \"Corey Schafer' video on FCF\")\n",
    "* * * \n",
    "- Uma ótima diferenciação entre FCF e HOF. \n",
    "[Any difference between first-class funcions and high order functions](https://stackoverflow.com/questions/10141124/any-difference-between-first-class-function-and-high-order-function \"Stackoverflow\")\n",
    "* * * "
   ]
  },
  {
   "cell_type": "markdown",
   "metadata": {},
   "source": [
    "### Closures\n",
    "--------------\n",
    "\n",
    "Na ciência da computação (sempre ela), um closure é uma função que referencia variáveis livres no contexto léxico [[1]](https://pt.wikipedia.org/wiki/Clausura_(ci%C3%AAncia_da_computa%C3%A7%C3%A3o). Um closure acontece normalmente quando uma função é declarada dentro do escopo de outra e essa função interna referencia variáveis locais da função externa. \n",
    "Vamos a um exemplo para melhor compreesão."
   ]
  },
  {
   "cell_type": "markdown",
   "metadata": {},
   "source": [
    "###### Considere o seguinte código:"
   ]
  },
  {
   "cell_type": "code",
   "execution_count": 1,
   "metadata": {},
   "outputs": [
    {
     "name": "stdout",
     "output_type": "stream",
     "text": [
      "É biscoito, não bolacha!!!\n"
     ]
    }
   ],
   "source": [
    "def outer_function():\n",
    "    \n",
    "    msg = 'É biscoito, não bolacha!!!'\n",
    "    \n",
    "    def inner_function():\n",
    "        print(msg)\n",
    "    return inner_function()\n",
    "\n",
    "outer_function()"
   ]
  },
  {
   "cell_type": "markdown",
   "metadata": {},
   "source": [
    "O que temos, então? Primeiramente, temos a definição de uma função externa <span style=\"background-color: #F9EBEA; color:##C0392B\">outer_function()</span>, continuamos com a criação da variável  <span style=\"background-color: #F9EBEA; color:##C0392B\">msg</span> e a definição da função interna  <span style=\"background-color: #F9EBEA; color:##C0392B\">inner_function()</span>, e por fim terminamos retornando e executando a função interna.\n",
    "Como pode-se notar, a variável  <span style=\"background-color: #F9EBEA; color:##C0392B\">msg</span> é um variável livre para a função interna, pois ela não é definida dentro da  <span style=\"background-color: #F9EBEA; color:##C0392B\">inner_function()</span>, porém é acessada por ela. Mas calma, o conceito de ***closure*** ainda não tá bem definido somente com este exemplo. Vamos alterar um pequeno detalhe.\n"
   ]
  },
  {
   "cell_type": "code",
   "execution_count": 2,
   "metadata": {},
   "outputs": [
    {
     "data": {
      "text/plain": [
       "<function __main__.outer_function.<locals>.inner_function>"
      ]
     },
     "execution_count": 2,
     "metadata": {},
     "output_type": "execute_result"
    }
   ],
   "source": [
    "def outer_function():\n",
    "    \n",
    "    msg = 'É biscoito, não bolacha!!!'\n",
    "    \n",
    "    def inner_function():\n",
    "        print(msg)\n",
    "    return inner_function\n",
    "\n",
    "outer_function()"
   ]
  },
  {
   "cell_type": "markdown",
   "metadata": {},
   "source": [
    "***O que mudou? Qual o comportamento agora?***"
   ]
  },
  {
   "cell_type": "markdown",
   "metadata": {},
   "source": [
    "Com a retirada dos parênteses na definição do retorno da função <span style=\"background-color: #F9EBEA; color:##C0392B\">outer_function()</span>, a função <span style=\"background-color: #F9EBEA; color:##C0392B\">inner_function()</span> não é mais executada, ela apenas é passada como retorno da função externa. Aí, você pode estar se perguntando: Como eu acesso a função interna agora? Vamos modificar o código e ver"
   ]
  },
  {
   "cell_type": "code",
   "execution_count": 4,
   "metadata": {},
   "outputs": [
    {
     "name": "stdout",
     "output_type": "stream",
     "text": [
      "É biscoito, não bolacha!!!\n"
     ]
    }
   ],
   "source": [
    "def outer_function():\n",
    "    \n",
    "    msg = 'É biscoito, não bolacha!!!'\n",
    "    \n",
    "    def inner_function():\n",
    "        print(msg)\n",
    "    return inner_function\n",
    "\n",
    "func = outer_function()\n",
    "func()"
   ]
  },
  {
   "cell_type": "markdown",
   "metadata": {},
   "source": [
    "***Notou a diferença ? Somente tendo acesso externo a função outer_function, como você iria dar print na variável msg sem modificar nada na definição da função e sem chamar a função interna? *** "
   ]
  },
  {
   "cell_type": "markdown",
   "metadata": {},
   "source": [
    "Espero que não esteja cansado(a), estamos quase chegando num exemplo mais concreto de ***closure***.\n",
    "\n",
    "Lembra da definição de ***closure*** ? Se não, resumindo e sendo direto, ***closure*** é uma função interna que \"lembra\" e tem acesso a variáveis no escopo local onde foi criada mesmo depois que a função externa terminou a  sua execução. Deu pra entender? Se não, veja o código anterior e leia a frase novamente. \n",
    "\n",
    "Tendo entendido esta parte, vamos deixar as coisas mais interessantes adicionando um parâmetro de entrada na função <span style=\"background-color: #F9EBEA; color:##C0392B\">outer_function()</span>, bem como criando um nova função denominada <span style=\"background-color: #F9EBEA; color:##C0392B\">feijao_func()</span> (além da <span style=\"background-color: #F9EBEA; color:##C0392B\">biscoito_func()</span>).\n"
   ]
  },
  {
   "cell_type": "code",
   "execution_count": 1,
   "metadata": {},
   "outputs": [
    {
     "name": "stdout",
     "output_type": "stream",
     "text": [
      "É biscoito, não bolacha!!!\n",
      "O Feijão é por cima do arroz !!!\n"
     ]
    }
   ],
   "source": [
    "def outer_function(some_msg):\n",
    "    \n",
    "    msg = some_msg\n",
    "    \n",
    "    def inner_function():\n",
    "        print(msg)\n",
    "    return inner_function\n",
    "\n",
    "biscoito_func = outer_function('É biscoito, não bolacha!!!')\n",
    "feijao_func = outer_function('O Feijão é por cima do arroz !!!')\n",
    "\n",
    "biscoito_func()\n",
    "feijao_func()"
   ]
  },
  {
   "cell_type": "markdown",
   "metadata": {},
   "source": [
    "\n",
    "Aqui, tanto a função <span style=\"background-color: #F9EBEA; color:##C0392B\">copy_biscoito = biscoito_func()</span> como a <span style=\"background-color: #F9EBEA; color:##C0392B\">feijao_func()</span> recebem o retorno da função <span style=\"background-color: #F9EBEA; color:##C0392B\">outer_function()</span>, mas passam parâmetros diferentes nas suas respectivas chamadas. Antes de discutir mais sobre este código, vamos fazer mais uma pequena modificação.\n",
    "\n"
   ]
  },
  {
   "cell_type": "code",
   "execution_count": 8,
   "metadata": {},
   "outputs": [
    {
     "name": "stdout",
     "output_type": "stream",
     "text": [
      "É biscoito, não bolacha!!!\n",
      "O Feijão é por cima do arroz !!!\n",
      "É biscoito, não bolacha!!!\n"
     ]
    }
   ],
   "source": [
    "def outer_function(some_msg):\n",
    "    \n",
    "    msg = some_msg\n",
    "    \n",
    "    def inner_function():\n",
    "        print(msg)\n",
    "    return inner_function\n",
    "\n",
    "biscoito_func = outer_function('É biscoito, não bolacha!!!')\n",
    "feijao_func = outer_function('O Feijão é por cima do arroz !!!')\n",
    "copy_biscoito = biscoito_func\n",
    "\n",
    "biscoito_func()\n",
    "feijao_func()\n",
    "copy_biscoito()"
   ]
  },
  {
   "cell_type": "markdown",
   "metadata": {},
   "source": [
    "***Essa foi pra pegar o conceito de vez! ;)***\n",
    "\n",
    "Só para elucidar o que foi feito neste último código. Quando fazemos <span style=\"background-color: #F9EBEA; color:##C0392B\">copy_biscoito = biscoito_func</span> estamos aplicando o conceito de ***First-Class function*** (que já foi abordado), fazendo a variável <span style=\"background-color: #F9EBEA; color:##C0392B\">copy_biscoito</span> receber a função <span style=\"background-color: #F9EBEA; color:##C0392B\">biscoito_func</span>. Quando executamos a função <span style=\"background-color: #F9EBEA; color:##C0392B\">copy_biscoito()</span>, mesmo ela não sendo definida diretamente da função <span style=\"background-color: #F9EBEA; color:##C0392B\">outer_function()</span> e com o parâmetro ***\"É biscoito, não bolacha!!!\"*** sendo passado, ela tem acesso a esta variável, pois a função <span style=\"background-color: #F9EBEA; color:##C0392B\">inner_function()</span> à qual ela está associada tem acesso local ao valor da variável que contém este parâmetro.\n",
    "\n",
    "Para finalizar este tópico, vamos agora para um exemplo mais prático e complexo. Neste exemplo embora seja usado a package de [logging](https://docs.python.org/2/library/logging.html), bem como o advento do [****args***](https://pythontips.com/2013/08/04/args-and-kwargs-in-python-explained/), não é necessário ao leitor o domínio sobre tais para que também se entenda ***decorators***. Assim, basta saber o porquê de ser usado e não como é usado (em relação ao [logging](https://docs.python.org/2/library/logging.html) e [****args***](https://pythontips.com/2013/08/04/args-and-kwargs-in-python-explained/) )  "
   ]
  },
  {
   "cell_type": "code",
   "execution_count": 2,
   "metadata": {},
   "outputs": [
    {
     "name": "stdout",
     "output_type": "stream",
     "text": [
      "20\n",
      "80\n",
      "10.0\n",
      "40.0\n"
     ]
    }
   ],
   "source": [
    "import logging \n",
    "\n",
    "logging.basicConfig(filename='exemplo.log', level=logging.INFO)\n",
    "\n",
    "def logger(func):\n",
    "    def log_func(*args):\n",
    "        logging.info('Executando {} com argumentos {}'.format(func.__name__, args))\n",
    "        print(func(*args))\n",
    "    return log_func\n",
    "\n",
    "def area_retangulo (base, altura):\n",
    "    return base*altura\n",
    "\n",
    "def area_triangulo (base, altura):\n",
    "    return base*altura/2.0\n",
    "\n",
    "area_quadr = logger(area_retangulo)\n",
    "area_trian = logger(area_triangulo)\n",
    "\n",
    "area_quadr(10, 2)\n",
    "area_quadr(20,4)\n",
    "\n",
    "area_trian(10,2)\n",
    "area_trian(20,4)"
   ]
  },
  {
   "cell_type": "markdown",
   "metadata": {},
   "source": [
    "Neste exemplo, usamos a package [logging](https://docs.python.org/2/library/logging.html) para adicionarmos, tirando vantagem do conceito de  ***Closure***, a funcionalidade básica de gerar um log da função que passamos como argumento da função <span style=\"background-color: #F9EBEA; color:##C0392B\">logger()</span>. Esta função <span style=\"background-color: #F9EBEA; color:##C0392B\">logger()</span> toma uma função <span style=\"background-color: #F9EBEA; color:##C0392B\">func</span> (qualquer) como argumento. Internamente à função <span style=\"background-color: #F9EBEA; color:##C0392B\">logger()</span> tem-se a função <span style=\"background-color: #F9EBEA; color:##C0392B\">log_func()</span> que toma qualquer quantidade de argumentos (graças ao ****args***. Fica para o leitor a reflexão do que ocorre caso não seja usado o ****args*** e porque ele é necessário), e registra um log com o nome da função sendo executada e com quais argumentos. O resto do código já deve ser familiar a essa altura do tutorial e é deixado ao leitor a sua inspeção.\n",
    "\n",
    "Na continuidade do exemplo são criadas duas funções, uma para calcular a área do quadrado dado a base e a altura e outra para a área de um triangulo, dados os mesmo argumentos. Esta funções são então passadas como argumentos para a função <span style=\"background-color: #F9EBEA; color:##C0392B\">logger()</span> que por seguinte retorna a função <span style=\"background-color: #F9EBEA; color:##C0392B\">log_func()</span> para as suas respecitivas variáveis. \n",
    "\n",
    "Embora não seja apresentado no exemplo acima, quando este código é executado, ele gera um arquivo log que é armazenado no mesmo diretório que o o notebook está sendo executado. Abaixo tem-se um imagem do conteúdo deste arquivo log.\n",
    "\n",
    "![alt text][img1]\n",
    "\n",
    "[img1]: log.png \"exemplo.log\"\n",
    "\n",
    "Pela imagem nota-se que de fato a inserção da funcionalidade de logging na função passada com argumento ocorre e assim, é possível manter um tracker dos logs gerados por essas duas funções. \n",
    "\n",
    "Com este exemplo, nosso tópico sobre ***Closure*** é finalizado. Caso o leito ainda não se sinta 100% certo sobre o funcionamento do exemplo anterior, é recomendado que o mesmo reveja o código e tente entender plenamente seu funcionamento, pois este código é um ótimo ponto de partida para o tópico sobre ***decorators*** (não à toa ele será usado como primeiro exemplo. *SPOILEEERS!!!*).\n",
    "\n",
    "* * * \n",
    "- Ótimo video no canal do Corey Schafer sobre Closure.\n",
    "[Programming Terms: Closures - How to Use Them and Why They Are Useful](https://www.youtube.com/watch?v=swU3c34d2NQ \"Corey Schafer's video on Closures\")\n",
    "* * *\n",
    "- Bom tutorial sobre Closure em Python3 (inglês). \n",
    "[Closures in Python3](http://www.discoversdk.com/blog/closures-in-python-3 \"Closures in Python3\")\n"
   ]
  },
  {
   "cell_type": "markdown",
   "metadata": {},
   "source": [
    "### Decorators\n",
    "-----------------\n",
    "Agora que os conceitos de ***Closures*** ***First-Class Functions*** foram definidos e exemplificados, entramos de vez nos ***Decorators***.\n",
    "\n",
    "De forma simples e direta, ***Decorator*** é bem similar ao que já fizemos até aqui. ***Decorator*** é uma função que aceita uma outra função como argumento, adiciona uma funcionalidade que não existia na função argumento e a retorna como uma função modificada, mas sem mexer no seu código. Vamos a um exemplo: "
   ]
  },
  {
   "cell_type": "code",
   "execution_count": 3,
   "metadata": {},
   "outputs": [
    {
     "name": "stdout",
     "output_type": "stream",
     "text": [
      "Meu nome e' display e fui executada!\n"
     ]
    }
   ],
   "source": [
    "def decorator_func(original_function):\n",
    "    def wrapper_func():\n",
    "        return original_function()\n",
    "    return wrapper_func\n",
    "\n",
    "def display():\n",
    "    print(\"Meu nome e' display e fui executada!\")\n",
    "\n",
    "decorated_display = decorator_func(display)\n",
    "decorated_display()\n",
    "\n"
   ]
  },
  {
   "cell_type": "markdown",
   "metadata": {},
   "source": [
    "Esse é o exemplo mais básico do conceito de ***decorator***. A função <span style=\"background-color: #F9EBEA; color:##C0392B\">display()</span> é passada como argumento e o que é retornado é uma função wrapper que contém a função original passada. Pelo que se pode notar, não houve tanta diferença ao que já foi feito até agora. Pra quem teve mais atenção, já notou que a definição da função <span style=\"background-color: #F9EBEA; color:##C0392B\">decorator_func()</span>  é a mesma da <span style=\"background-color: #F9EBEA; color:##C0392B\">outer_func()</span>. O que mudou foi só a nomeclatura.\n",
    "\n",
    "Por esse exemplo fica claro que é possível adicionar funcionalidades na função <span style=\"background-color: #F9EBEA; color:##C0392B\">display()</span> sem mexer em nada no código desta função. Basta apenas adicionar essa funcionalidade na função wrapper do ***decorator***. O exemplo a seguir mostra como isso é possível"
   ]
  },
  {
   "cell_type": "code",
   "execution_count": 8,
   "metadata": {},
   "outputs": [
    {
     "name": "stdout",
     "output_type": "stream",
     "text": [
      "funcao wrapper executada antes da funcao \u001b[31mdisplay\n",
      "\u001b[39mMeu nome e' display e fui executada!\n"
     ]
    }
   ],
   "source": [
    "from colorama import Fore\n",
    "def decorator_func(original_function):\n",
    "    def wrapper_func():\n",
    "        print('funcao wrapper executada antes da funcao '+Fore.RED+'{}'.format(original_function.__name__))\n",
    "        print(Fore.RESET, end='')\n",
    "        return original_function()\n",
    "    return wrapper_func\n",
    "\n",
    "def display():\n",
    "    print(\"Meu nome e' display e fui executada!\")\n",
    "\n",
    "decorated_display = decorator_func(display)\n",
    "decorated_display()\n"
   ]
  },
  {
   "cell_type": "markdown",
   "metadata": {},
   "source": [
    "***OBS:*** Não se preocupe com a parte do pacote ***colorama***, foi só para \"dar\" uma corzinha na função que foi executada dentro do wrapper. Caso queira saber mais sobre esse pacote, sinta-se livre para procurar na página ofical: [Colorama](https://pypi.python.org/pypi/colorama)"
   ]
  },
  {
   "cell_type": "markdown",
   "metadata": {},
   "source": [
    "Neste exemplo foi adicionado uma funcionalidade de adicionar um print informando qual função foi executada pelo wrapper, mostrando assim o conceito puro de ***decorator*** sendo executado. \n",
    "\n",
    "Para fechar essa parte básica, falta só mais um detalhe. O leitor já deve se deparado com esse conceito de ***decorator***, mas com a definição da função \"decorada\" um pouco diferente no que diz respeito a sintaxe. De fato, vamos mexer nesse detalhe"
   ]
  },
  {
   "cell_type": "code",
   "execution_count": 11,
   "metadata": {},
   "outputs": [
    {
     "name": "stdout",
     "output_type": "stream",
     "text": [
      "funcao wrapper executada antes da funcao \u001b[31mdisplay\n",
      "\u001b[39mMeu nome e' display e fui executada!\n"
     ]
    }
   ],
   "source": [
    "from colorama import Fore\n",
    "def decorator_func(original_function):\n",
    "    def wrapper_func():\n",
    "        print('funcao wrapper executada antes da funcao '+Fore.RED+'{}'.format(original_function.__name__))\n",
    "        print(Fore.RESET, end='')\n",
    "        return original_function()\n",
    "    return wrapper_func\n",
    "\n",
    "@decorator_func\n",
    "def display():\n",
    "    print(\"Meu nome e' display e fui executada!\")\n",
    "\n",
    "display()"
   ]
  },
  {
   "cell_type": "markdown",
   "metadata": {},
   "source": [
    "Legal, né?\n",
    "\n",
    "O que foi feito aqui foi só uma mudança de sintaxe. Usar <span style=\"background-color: #F9EBEA; color:##C0392B\">@decorator_func</span> antes da função <span style=\"background-color: #F9EBEA; color:##C0392B\">display()</span> tem o mesmo efeito do que fazer\n",
    "```python\n",
    "display = decorator_func(display)\n",
    "```\n",
    "\n",
    "assim, continua-se com a função denominada <span style=\"background-color: #F9EBEA; color:##C0392B\">display()</span>, mas agora com uma nova funcionalidade adicionada devido ao ***decorator***.\n",
    "\n",
    "Vamos deixar esse exemplo um pouco mais complexo:"
   ]
  },
  {
   "cell_type": "code",
   "execution_count": 17,
   "metadata": {},
   "outputs": [
    {
     "ename": "TypeError",
     "evalue": "wrapper_func() takes 0 positional arguments but 2 were given",
     "output_type": "error",
     "traceback": [
      "\u001b[0;31m---------------------------------------------------------------------------\u001b[0m",
      "\u001b[0;31mTypeError\u001b[0m                                 Traceback (most recent call last)",
      "\u001b[0;32m<ipython-input-17-f00739367f4d>\u001b[0m in \u001b[0;36m<module>\u001b[0;34m()\u001b[0m\n\u001b[1;32m     16\u001b[0m \u001b[0;34m\u001b[0m\u001b[0m\n\u001b[1;32m     17\u001b[0m \u001b[0;34m\u001b[0m\u001b[0m\n\u001b[0;32m---> 18\u001b[0;31m \u001b[0mdisplay_info\u001b[0m\u001b[0;34m(\u001b[0m\u001b[0;34m'Severino'\u001b[0m\u001b[0;34m,\u001b[0m \u001b[0;36m20\u001b[0m\u001b[0;34m)\u001b[0m\u001b[0;34m\u001b[0m\u001b[0m\n\u001b[0m\u001b[1;32m     19\u001b[0m \u001b[0mdisplay\u001b[0m\u001b[0;34m(\u001b[0m\u001b[0;34m)\u001b[0m\u001b[0;34m\u001b[0m\u001b[0m\n",
      "\u001b[0;31mTypeError\u001b[0m: wrapper_func() takes 0 positional arguments but 2 were given"
     ]
    }
   ],
   "source": [
    "from colorama import Fore\n",
    "def decorator_func(original_function):\n",
    "    def wrapper_func():\n",
    "        print('funcao wrapper executada antes da funcao '+Fore.RED+'{}'.format(original_function.__name__))\n",
    "        print(Fore.RESET, end='')\n",
    "        return original_function()\n",
    "    return wrapper_func\n",
    "\n",
    "@decorator_func\n",
    "def display():\n",
    "    print(\"Meu nome e' display e fui executada!\")\n",
    "\n",
    "@decorator_func\n",
    "def display_info(nome, idade):\n",
    "    print('Funcao info com argumentos ({}, {})'.format(nome, idade))\n",
    "\n",
    "    \n",
    "display_info('Severino', 20)\n",
    "display()"
   ]
  },
  {
   "cell_type": "markdown",
   "metadata": {},
   "source": [
    "Foi-se definida outra função, denominada <span style=\"background-color: #F9EBEA; color:##C0392B\">display_info()</span> que recebe dois argumentos (nome e idade) e depois mostra uma mensagem na tela. Porém, houve um problema na hora que foi tentado \"decorar\" esta função. Tem-se o seguinte erro:\n",
    "```python\n",
    "    TypeError: wrapper_func() takes 0 positional arguments but 2 were given\n",
    "```\n",
    "Este erro ocorreu, pois na definição da função <span style=\"background-color: #F9EBEA; color:##C0392B\">decorator_func()</span> não foi definido a passagem de argumentos para as funções que ela recebe como argumento. Assim, faz-se necessário definir a função <span style=\"background-color: #F9EBEA; color:##C0392B\">decorator_func()</span> de modo que possa receber qualquer quantidade de argumentos ou *keywords* que seja definida na função de entrada. Para isso, basta usar \\****args***, \\*\\****kwargs*** como argumentos da função interna <span style=\"background-color: #F9EBEA; color:##C0392B\">wrapper_func()</span>. Assim, o código passa a ter a seguinte forma:"
   ]
  },
  {
   "cell_type": "code",
   "execution_count": 16,
   "metadata": {},
   "outputs": [
    {
     "name": "stdout",
     "output_type": "stream",
     "text": [
      "funcao wrapper executada antes da funcao \u001b[31mdisplay_info\n",
      "\u001b[39mFuncao info com argumentos (Severino, 20)\n",
      "funcao wrapper executada antes da funcao \u001b[31mdisplay\n",
      "\u001b[39mMeu nome e' display e fui executada!\n"
     ]
    }
   ],
   "source": [
    "from colorama import Fore\n",
    "def decorator_func(original_function):\n",
    "    def wrapper_func(*args, **kwargs):\n",
    "        print('funcao wrapper executada antes da funcao '+Fore.RED+'{}'.format(original_function.__name__))\n",
    "        print(Fore.RESET, end='')\n",
    "        return original_function(*args, **kwargs)\n",
    "    return wrapper_func\n",
    "\n",
    "@decorator_func\n",
    "def display():\n",
    "    print(\"Meu nome e' display e fui executada!\")\n",
    "\n",
    "@decorator_func\n",
    "def display_info(nome, idade):\n",
    "    print('Funcao info com argumentos ({}, {})'.format(nome, idade))\n",
    "\n",
    "    \n",
    "display_info('Severino', 20)\n",
    "display()"
   ]
  },
  {
   "cell_type": "markdown",
   "metadata": {},
   "source": [
    "***Uhuu, agora sim!***\n",
    "\n",
    "Com a adição do \\****args*** e do \\*\\****kwargs***, a função <span style=\"background-color: #F9EBEA; color:##C0392B\">decorator_func()</span> é capaz de não somente \"decorar\" a função <span style=\"background-color: #F9EBEA; color:##C0392B\">display_info()</span> como também qualquer função que tenha argumentos ou não (não importanto a quantidade).\n",
    "\n",
    "Na literatura sobre ***decorator*** há outro tipo de sintaxe que é de extrema importância ser citada aqui. É possível definir um ***decorator*** tanto como função ou como uma classe. O exemplo a seguir mostra como ficaria o exemplo anterior com o uso de uma classe <span style=\"background-color: #F9EBEA; color:##C0392B\">decorator</span>."
   ]
  },
  {
   "cell_type": "code",
   "execution_count": 20,
   "metadata": {},
   "outputs": [
    {
     "name": "stdout",
     "output_type": "stream",
     "text": [
      "funcao wrapper executada antes da funcao \u001b[31mdisplay_info\n",
      "\u001b[39mFuncao info com argumentos (Severino, 20)\n",
      "funcao wrapper executada antes da funcao \u001b[31mdisplay\n",
      "\u001b[39mMeu nome e' display e fui executada!\n"
     ]
    }
   ],
   "source": [
    "from colorama import Fore\n",
    "\n",
    "class decorator_class:\n",
    "    def __init__(self, original_function):\n",
    "        self.original_function = original_function\n",
    "    \n",
    "    def __call__(self, *args, **kwargs):\n",
    "        print('funcao wrapper executada antes da funcao '+Fore.RED+'{}'.format(self.original_function.__name__))\n",
    "        print(Fore.RESET, end='')\n",
    "        return self.original_function(*args, **kwargs)\n",
    "\n",
    "@decorator_class\n",
    "def display():\n",
    "    print(\"Meu nome e' display e fui executada!\")\n",
    "\n",
    "@decorator_class\n",
    "def display_info(nome, idade):\n",
    "    print('Funcao info com argumentos ({}, {})'.format(nome, idade))\n",
    "\n",
    "    \n",
    "display_info('Severino', 20)\n",
    "display()"
   ]
  },
  {
   "cell_type": "markdown",
   "metadata": {},
   "source": [
    "Este exemplo com classe foi só para o leitor se habituar e saber que também há esta opção, porém para o restante deste tutorial será usada a sintaxe com função, pois além de ser mais simples, é a sintaxe que foi usada desde as primeiras linhas deste humilde notebook/pdf/(ou seja lá onde vc estiver lendo).\n",
    "\n",
    "Para finalizar, passamos agora para um exemplo mais prático com o uso de ***decorators***.\n",
    "\n",
    "Um dos usos mais comuns de ***decorators*** em python é para *logging*, assim vamos apra o exemplo onde mantemos um registro de quantas vezes certa função é executada. "
   ]
  },
  {
   "cell_type": "code",
   "execution_count": 25,
   "metadata": {},
   "outputs": [
    {
     "name": "stdout",
     "output_type": "stream",
     "text": [
      "Funcao info com argumentos (Dr. Who, nan)\n"
     ]
    }
   ],
   "source": [
    "def my_logger(orig_func):\n",
    "    import logging\n",
    "    logging.basicConfig(filename='{}.log'.format(orig_func.__name__), level=logging.INFO)\n",
    "    \n",
    "    def wrapper(*args, **kwargs):\n",
    "        logging.info('Executada com args: {} e kwargs: {}'.format(args, kwargs))\n",
    "        return orig_func(*args, **kwargs)\n",
    "\n",
    "    return wrapper\n",
    "\n",
    "@my_logger\n",
    "def display_info(nome, idade):\n",
    "    print('Funcao info com argumentos ({}, {})'.format(nome, idade))\n",
    "\n",
    "    \n",
    "display_info('Dr. Who', float('NaN'))\n",
    "    \n",
    "    "
   ]
  },
  {
   "cell_type": "markdown",
   "metadata": {},
   "source": [
    "Após rodar esse código, um arquivo chamada <span style=\"background-color: #F9EBEA; color:##C0392B\">display_info.log</span> será criado no mesmo diretório que o código foi executado e apresenta o seguinte conteúdo:\n",
    "\n",
    "![alt text][img2]\n",
    "\n",
    "[img2]: log2.png \"display_info.log\"\n",
    "\n",
    "\n",
    "vendo a figura, nota-se que de fato a funcionalidade de *logging* foi adiciona a função <span style=\"background-color: #F9EBEA; color:##C0392B\">display_info()</span> e toda vez que essa função for chamada nesse código, o arquivo log será atualizado. A figura a seguir é para várias chamadas da função <span style=\"background-color: #F9EBEA; color:##C0392B\">display_info()</span> decorada por <span style=\"background-color: #F9EBEA; color:##C0392B\">my_logger()</span>:\n",
    "\n",
    "![alt text][img3]\n",
    "\n",
    "[img3]: log3.png \"display_info.log\"\n",
    "\n",
    "--------------------------------"
   ]
  },
  {
   "cell_type": "markdown",
   "metadata": {},
   "source": [
    "Com este exemplo é finalizado este tutorial sobre ***Decorators***. Espero que o leitor tenha conseguido não só acompanhar cada detalhe, como também tenha gostado dos exemplos usados. Até mais e espero você no meu próximo tutorial.\n",
    "\n",
    "* * *\n",
    "- Mais um ótimo vídeo do canal do Corey Schafer, mas desta vez sobre Decorator e que serviu como material base para este tutorial.\n",
    "[Programming Terms: First-Class Functions](https://www.youtube.com/watch?v=FsAPt_9Bf3U&t=50s \"Corey Schafer' video on Decorators in Python\")\n",
    "* * * \n",
    "- Página da WikiPedia sobre Decorators. \n",
    "[Decorator Pattern](https://en.wikipedia.org/wiki/Decorator_pattern \"Decorators\")\n",
    "* * * \n",
    "- Wiki Python sobre Decorators.\n",
    "[PythonDecorators Wiki](https://wiki.python.org/moin/PythonDecorators \"Python-Wiki on Decorators\")"
   ]
  }
 ],
 "metadata": {
  "kernelspec": {
   "display_name": "Python 3",
   "language": "python",
   "name": "python3"
  },
  "language_info": {
   "codemirror_mode": {
    "name": "ipython",
    "version": 3
   },
   "file_extension": ".py",
   "mimetype": "text/x-python",
   "name": "python",
   "nbconvert_exporter": "python",
   "pygments_lexer": "ipython3",
   "version": "3.5.2"
  }
 },
 "nbformat": 4,
 "nbformat_minor": 2
}
